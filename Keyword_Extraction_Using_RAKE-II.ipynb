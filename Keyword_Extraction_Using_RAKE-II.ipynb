{
 "cells": [
  {
   "cell_type": "markdown",
   "metadata": {},
   "source": [
    "# Keyword Extraction using RAKE"
   ]
  },
  {
   "cell_type": "code",
   "execution_count": 1,
   "metadata": {},
   "outputs": [],
   "source": [
    "# Import Dependecies\n",
    "from rake_nltk import Rake\n",
    "import contractions\n",
    "import string\n",
    "import spacy"
   ]
  },
  {
   "cell_type": "code",
   "execution_count": 2,
   "metadata": {},
   "outputs": [],
   "source": [
    "# Use spacy to find list of stopwords\n",
    "nlp = spacy.load(\"en\")\n",
    "stops = nlp.Defaults.stop_words"
   ]
  },
  {
   "cell_type": "code",
   "execution_count": 3,
   "metadata": {},
   "outputs": [
    {
     "data": {
      "text/plain": [
       "set"
      ]
     },
     "execution_count": 3,
     "metadata": {},
     "output_type": "execute_result"
    }
   ],
   "source": [
    "type(stops)"
   ]
  },
  {
   "cell_type": "code",
   "execution_count": 4,
   "metadata": {},
   "outputs": [],
   "source": [
    "stops = list(stops)\n",
    "stops.append('\\n')"
   ]
  },
  {
   "cell_type": "code",
   "execution_count": 5,
   "metadata": {},
   "outputs": [
    {
     "name": "stdout",
     "output_type": "stream",
     "text": [
      "['she', 'am', 'hereupon', 'nine', 'afterwards', 'somewhere', 'whereupon', 'for', 'into', 'noone', 'various', 'now', 'herself', 'per', 'was', 'each', 'one', 'this', 'empty', 'yourself', 'ever', 'what', 'might', 'else', 'these', 'us', 'give', 'show', 'though', 'i', 'up', 'nowhere', 'neither', 'otherwise', 'had', 'rather', 'with', 'itself', 'to', 'via', 'around', 'became', 'it', 'never', 'always', 'front', 'however', 'top', \"'s\", 'below', 'doing', 'too', 'every', 'fifty', 'they', 'ours', 'two', 'again', 'keep', 'anyone', 'next', 'all', 'even', 'move', 'part', 'seeming', 'whence', 'cannot', 'whenever', 'off', 'eleven', 'thus', 'twenty', 'by', 'elsewhere', 'made', 'does', 'also', 'eight', 'along', 'namely', 'ten', 'are', 'can', 'forty', 'beyond', 'my', \"'d\", 'last', 'much', 'her', 'do', 'own', 'fifteen', 'out', 'those', 'whereby', 'thru', 'as', 'across', 'is', 'why', 'from', 'former', 'nevertheless', 'since', 'three', 'such', 'done', 'before', 'four', 'serious', 'almost', 'first', 'over', 'latterly', 'sometimes', 'did', 'together', 'towards', 'bottom', 'he', 'and', 'besides', 'unless', 'you', 'may', 'after', 'further', 'thereupon', 'above', 'ourselves', 'be', 'anyhow', 'on', 'that', 'becomes', 'through', 'well', 'when', 'its', 'name', \"'re\", 'ca', 'hence', 'take', 'therefore', 'myself', 'call', 'wherein', 'someone', \"'ve\", 'whereas', 'quite', 'seem', 'between', 'whatever', 'while', 'hereafter', 'twelve', 'back', 'everyone', 'amount', 'nor', 'hers', 'will', 'within', 'whether', 'meanwhile', 'thereby', 'becoming', 'then', 'onto', 'whither', 'therein', 'yourselves', 'at', 'less', 'full', 'few', 'regarding', 'which', 'somehow', 'sometime', 'but', 'no', 'him', 'their', 'who', 'third', 'seems', 'not', 'just', 'there', 'because', 'really', \"'ll\", 'been', 'least', 'sixty', 'indeed', 'behind', 'used', 'whereafter', 'any', 'himself', 'so', 'against', 'upon', \"'m\", 'were', 'a', 'due', 'in', 'here', 'them', 'another', 'under', 'perhaps', 'very', 'beforehand', 'without', 'become', \"n't\", 'beside', 'make', 'should', 'once', 're', 'alone', 'during', 'the', 'wherever', 'nobody', 'of', 'toward', 'get', 'herein', 'whom', 'his', 'throughout', 'often', 'put', 'yet', 'same', 'still', 'seemed', 'whose', 'down', 'most', 'something', 'mostly', 'our', 'until', 'me', 'only', 'thence', 'except', 'your', 'an', 'we', 'several', 'some', 'or', 'none', 'although', 'please', 'thereafter', 'would', 'more', 'latter', 'using', 'many', 'five', 'themselves', 'could', 'formerly', 'nothing', 'if', 'than', 'where', 'how', 'side', 'whoever', 'see', 'everything', 'everywhere', 'six', 'other', 'anywhere', 'either', 'hundred', 'have', 'go', 'amongst', 'enough', 'has', 'others', 'both', 'hereby', 'must', 'already', 'anything', 'about', 'moreover', 'yours', 'among', 'being', 'whole', 'anyway', 'mine', 'say', '\\n']\n"
     ]
    }
   ],
   "source": [
    "print(stops)"
   ]
  },
  {
   "cell_type": "code",
   "execution_count": 6,
   "metadata": {},
   "outputs": [],
   "source": [
    "# Read the text document\n",
    "raw_text = open(\"article.txt\",\"r\", encoding='UTF-8').read()"
   ]
  },
  {
   "cell_type": "code",
   "execution_count": 7,
   "metadata": {},
   "outputs": [
    {
     "data": {
      "text/plain": [
       "'Researchers at Michigan State University (MSU) in East Lansing analyzed data from randomized controlled trials that had compared people who took vitamin D supplements with those who took a placebo for at least 3 years.\\n\\nThey only included trials that had examined the use of vitamin D supplements to prevent disease over a minimum follow-up of 4 years and had also recorded the incidence of cancer and cancer-related deaths.\\n\\nIn all, the analysis took in 10 trials with a total of 79,055 participants. Their average age was 68 years, and 78% of them were female.\\n\\nThe team found a significant link between the use of vitamin D supplements and a lower risk of death to cancer over the follow-up period.\\n\\nThe analysis showed that people who took vitamin D supplements had a 13% lower risk of dying from cancer than those who took a placebo over the same period.\\n\\nThere was no significant association, however, between vitamin D use and prevention of cancer.\\n\\nThe findings featured at the annual meeting of the American Society of Clinical Oncology (ASCO) in Chicago, IL, on June 3, 2019.\\n\\nA recent supplement of the ASCO\\'s Journal of Clinical Oncology also includes an abstract of the study.\\n\\n\"The difference in the mortality rate between the vitamin D and placebo groups was statistically significant enough that it showed just how important it might be among the cancer population,\" says Tarek Haykal, a resident doctor in internal medicine at MSU and one of the study\\'s lead authors.\\n\\nCancer and vitamin D\\n\\nAccording to the World Health Organization (WHO), cancer is the second main cause of deaths worldwide. In 2018, around 18.1 million people found out that they had cancer, and 9.6 million died of the disease.\\n\\nCancer develops when cells multiply abnormally and form a tumor that can spread. There are many forms of cancer, depending on the type of cell and part of the body in which it starts.\\n\\nUnder normal circumstances, when cells undergo damage or grow old, they die, and new ones replace them. Cancer arises when this process stops working properly, meaning that damaged or old cells do not die, or too many new cells form. This dysfunction can result in a surplus of cells that grow out of control.\\n\\nAs a cancer tumor grows, it begins to spread into nearby tissue. At the same time, cells can escape the tumor, spread through the lymph system and bloodstream to other parts of the body, and start new, secondary tumors.\\n\\nThe chances of surviving cancer are much higher when diagnosis occurs in the early stages and treatment can begin before the disease has started to spread. Once cancer has spread, or metastasized, it is harder to treat.\\n\\nMost people get their vitamin D from exposure to sunlight and from food. Some also take vitamin D supplements. The body has to convert vitamin D into an active form before it can use it. This process occurs in two stages: first in the liver, and then in the kidneys.\\n\\nOnce it is in an active form, vitamin D helps the gut absorb calcium during digestion and keeps blood levels stable for use in forming bone. It also helps maintain healthy bone. Health problems, such as rickets in children and osteoporosis in older people, can result from a lack of vitamin D.\\n\\nAs well as being essential for bone health, vitamin D also helps control cell growth, immune function, and inflammation. It performs these functions by regulating genes for cell differentiation, division, and death.\\n\\nOutstanding questions need further research\\n\\nAn increasing number of studies have been looking at whether taking vitamin D supplements could prevent osteoporosis, cardiovascular disease, diabetes, cancer, and other diseases.\\n\\nHaykal and his colleagues decided to take a look at this evidence in relation to cancer prevention, especially as the use of aspirin for \"primary prevention of cancer is still controversial,\" they note.\\n\\nWhile the study\\'s findings are promising, Haykal says that there is still a lot to find out, including the correct dosage and blood levels of vitamin D.\\n\\nThere also needs to be more investigation into how many additional years of life vitamin D can give people with cancer and how the underlying mechanism of action works.\\n\\n\"There are still many questions, and more research is needed,\" Haykal urges. However, he suggests that the new findings are sufficiently strong to make him wish that more doctors would prescribe vitamin D, especially those caring for cancer patients.'"
      ]
     },
     "execution_count": 7,
     "metadata": {},
     "output_type": "execute_result"
    }
   ],
   "source": [
    "raw_text"
   ]
  },
  {
   "cell_type": "code",
   "execution_count": 8,
   "metadata": {},
   "outputs": [],
   "source": [
    "# Remove all contractions\n",
    "text1 = contractions.fix(raw_text)"
   ]
  },
  {
   "cell_type": "code",
   "execution_count": 9,
   "metadata": {},
   "outputs": [
    {
     "data": {
      "text/plain": [
       "'Researchers at Michigan State University (MSU) in East Lansing analyzed data from randomized controlled trials that had compared people who took vitamin D supplements with those who took a placebo for at least 3 years.\\n\\nThey only included trials that had examined the use of vitamin D supplements to prevent disease over a minimum follow-up of 4 years and had also recorded the incidence of cancer and cancer-related deaths.\\n\\nIn all, the analysis took in 10 trials with a total of 79,055 participants. Their average age was 68 years, and 78% of them were female.\\n\\nThe team found a significant link between the use of vitamin D supplements and a lower risk of death to cancer over the follow-up period.\\n\\nThe analysis showed that people who took vitamin D supplements had a 13% lower risk of dying from cancer than those who took a placebo over the same period.\\n\\nThere was no significant association, however, between vitamin D use and prevention of cancer.\\n\\nThe findings featured at the annual meeting of the American Society of Clinical Oncology (ASCO) in Chicago, IL, on June 3, 2019.\\n\\nA recent supplement of the ASCO\\'s Journal of Clinical Oncology also includes an abstract of the study.\\n\\n\"The difference in the mortality rate between the vitamin D and placebo groups was statistically significant enough that it showed just how important it might be among the cancer population,\" says Tarek Haykal, a resident doctor in internal medicine at MSU and one of the study\\'s lead authors.\\n\\nCancer and vitamin D\\n\\nAccording to the World Health Organization (WHO), cancer is the second main because of deaths worldwide. In 2018, around 18.1 million people found out that they had cancer, and 9.6 million died of the disease.\\n\\nCancer develops when cells multiply abnormally and form a tumor that can spread. There are many forms of cancer, depending on the type of cell and part of the body in which it starts.\\n\\nUnder normal circumstances, when cells undergo damage or grow old, they die, and new ones replace them. Cancer arises when this process stops working properly, meaning that damaged or old cells do not die, or too many new cells form. This dysfunction can result in a surplus of cells that grow out of control.\\n\\nAs a cancer tumor grows, it begins to spread into nearby tissue. At the same time, cells can escape the tumor, spread through the lymph system and bloodstream to other parts of the body, and start new, secondary tumors.\\n\\nThe chances of surviving cancer are much higher when diagnosis occurs in the early stages and treatment can begin before the disease has started to spread. Once cancer has spread, or metastasized, it is harder to treat.\\n\\nMost people get their vitamin D from exposure to sunlight and from food. Some also take vitamin D supplements. The body has to convert vitamin D into an active form before it can use it. This process occurs in two stages: first in the liver, and then in the kidneys.\\n\\nOnce it is in an active form, vitamin D helps the gut absorb calcium during digestion and keeps blood levels stable for use in forming bone. It also helps maintain healthy bone. Health problems, such as rickets in children and osteoporosis in older people, can result from a lack of vitamin D.\\n\\nAs well as being essential for bone health, vitamin D also helps control cell growth, immune function, and inflammation. It performs these functions by regulating genes for cell differentiation, division, and death.\\n\\nOutstanding questions need further research\\n\\nAn increasing number of studies have been looking at whether taking vitamin D supplements could prevent osteoporosis, cardiovascular disease, diabetes, cancer, and other diseases.\\n\\nHaykal and his colleagues decided to take a look at this evidence in relation to cancer prevention, especially as the use of aspirin for \"primary prevention of cancer is still controversial,\" they note.\\n\\nWhile the study\\'s findings are promising, Haykal says that there is still a lot to find out, including the correct dosage and blood levels of vitamin D.\\n\\nThere also needs to be more investigation into how many additional years of life vitamin D can give people with cancer and how the underlying mechanism of action works.\\n\\n\"There are still many questions, and more research is needed,\" Haykal urges. However, he suggests that the new findings are sufficiently strong to make him wish that more doctors would prescribe vitamin D, especially those caring for cancer patients.'"
      ]
     },
     "execution_count": 9,
     "metadata": {},
     "output_type": "execute_result"
    }
   ],
   "source": [
    "text1"
   ]
  },
  {
   "cell_type": "code",
   "execution_count": 10,
   "metadata": {},
   "outputs": [],
   "source": [
    "# Using string to find punctuations\n",
    "puncts = string.punctuation"
   ]
  },
  {
   "cell_type": "code",
   "execution_count": 11,
   "metadata": {},
   "outputs": [
    {
     "name": "stdout",
     "output_type": "stream",
     "text": [
      "!\"#$%&'()*+,-./:;<=>?@[\\]^_`{|}~\n"
     ]
    }
   ],
   "source": [
    "print(puncts)"
   ]
  },
  {
   "cell_type": "code",
   "execution_count": 12,
   "metadata": {},
   "outputs": [],
   "source": [
    "r = Rake(stopwords=stops,\n",
    "        punctuations=puncts,\n",
    "        min_length=2,\n",
    "        max_length=4)"
   ]
  },
  {
   "cell_type": "code",
   "execution_count": 13,
   "metadata": {},
   "outputs": [],
   "source": [
    "r.extract_keywords_from_text(text1)"
   ]
  },
  {
   "cell_type": "code",
   "execution_count": 14,
   "metadata": {},
   "outputs": [],
   "source": [
    "output = r.get_ranked_phrases()"
   ]
  },
  {
   "cell_type": "code",
   "execution_count": 15,
   "metadata": {},
   "outputs": [
    {
     "name": "stdout",
     "output_type": "stream",
     "text": [
      "east lansing analyzed data\n",
      "process stops working properly\n",
      "helps control cell growth\n",
      "helps maintain healthy bone\n",
      "needed ,\" haykal urges\n",
      "keeps blood levels stable\n",
      "taking vitamin d supplements\n",
      "1 million people found\n",
      "took vitamin d supplements\n",
      "vitamin d supplements\n",
      "vitamin d helps\n",
      "6 million died\n",
      "vitamin d use\n",
      "vitamin d according\n",
      "prescribe vitamin d\n",
      "life vitamin d\n",
      "convert vitamin d\n",
      "outstanding questions need\n",
      "michigan state university\n",
      "gut absorb calcium\n",
      "cells undergo damage\n",
      "cells multiply abnormally\n",
      "new ones replace\n",
      "world health organization\n",
      "s lead authors\n",
      "randomized controlled trials\n",
      "cancer tumor grows\n",
      "new cells form\n",
      "vitamin d\n",
      "blood levels\n",
      "team found\n",
      "process occurs\n",
      "haykal says\n",
      "controversial ,\"\n",
      "cell differentiation\n",
      "bone health\n",
      "analysis took\n",
      "old cells\n",
      "older people\n",
      "forming bone\n",
      "compared people\n",
      "start new\n",
      "new findings\n",
      "active form\n",
      "s journal\n",
      "s findings\n",
      "included trials\n",
      "health problems\n",
      "10 trials\n",
      "surviving cancer\n",
      "cancer prevention\n",
      "cancer patients\n",
      "cancer develops\n",
      "cancer arises\n",
      "), cancer\n",
      "underlying mechanism\n",
      "sufficiently strong\n",
      "statistically significant\n",
      "significant link\n",
      "significant association\n",
      "secondary tumors\n",
      "second main\n",
      "resident doctor\n",
      "related deaths\n",
      "regulating genes\n",
      "recent supplement\n",
      "primary prevention\n",
      "prevent osteoporosis\n",
      "prevent disease\n",
      "placebo groups\n",
      "normal circumstances\n",
      "nearby tissue\n",
      "mortality rate\n",
      "minimum follow\n",
      "lymph system\n",
      "lower risk\n",
      "june 3\n",
      "internal medicine\n",
      "increasing number\n",
      "immune function\n",
      "grow old\n",
      "findings featured\n",
      "early stages\n",
      "diagnosis occurs\n",
      "deaths worldwide\n",
      "correct dosage\n",
      "colleagues decided\n",
      "clinical oncology\n",
      "cardiovascular disease\n",
      "average age\n",
      "annual meeting\n",
      "analysis showed\n",
      "american society\n",
      "additional years\n",
      "action works\n",
      "68 years\n",
      "4 years\n",
      "3 years\n",
      "055 participants\n"
     ]
    }
   ],
   "source": [
    "for key_phrase in output:\n",
    "    print(key_phrase)"
   ]
  },
  {
   "cell_type": "code",
   "execution_count": null,
   "metadata": {},
   "outputs": [],
   "source": []
  }
 ],
 "metadata": {
  "kernelspec": {
   "display_name": "Python 3",
   "language": "python",
   "name": "python3"
  },
  "language_info": {
   "codemirror_mode": {
    "name": "ipython",
    "version": 3
   },
   "file_extension": ".py",
   "mimetype": "text/x-python",
   "name": "python",
   "nbconvert_exporter": "python",
   "pygments_lexer": "ipython3",
   "version": "3.6.8"
  }
 },
 "nbformat": 4,
 "nbformat_minor": 2
}

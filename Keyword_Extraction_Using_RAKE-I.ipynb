{
 "cells": [
  {
   "cell_type": "markdown",
   "metadata": {},
   "source": [
    "# Keyword Extraction using RAKE"
   ]
  },
  {
   "cell_type": "code",
   "execution_count": 1,
   "metadata": {},
   "outputs": [],
   "source": [
    "# import dependecies\n",
    "from rake_nltk import Rake"
   ]
  },
  {
   "cell_type": "code",
   "execution_count": 20,
   "metadata": {},
   "outputs": [],
   "source": [
    "# Rake by default uses Stopword and Punctuation characters from NLTK\n",
    "r = Rake(min_length=2, max_length=4)"
   ]
  },
  {
   "cell_type": "code",
   "execution_count": 21,
   "metadata": {},
   "outputs": [],
   "source": [
    "# Read document text file\n",
    "text = open(\"article.txt\",\"r\", encoding='UTF-8').read()"
   ]
  },
  {
   "cell_type": "code",
   "execution_count": 22,
   "metadata": {},
   "outputs": [
    {
     "data": {
      "text/plain": [
       "'Researchers at Michigan State University (MSU) in East Lansing analyzed data from randomized controlled trials that had compared people who took vitamin D supplements with those who took a placebo for at least 3 years.\\n\\nThey only included trials that had examined the use of vitamin D supplements to prevent disease over a minimum follow-up of 4 years and had also recorded the incidence of cancer and cancer-related deaths.\\n\\nIn all, the analysis took in 10 trials with a total of 79,055 participants. Their average age was 68 years, and 78% of them were female.\\n\\nThe team found a significant link between the use of vitamin D supplements and a lower risk of death to cancer over the follow-up period.\\n\\nThe analysis showed that people who took vitamin D supplements had a 13% lower risk of dying from cancer than those who took a placebo over the same period.\\n\\nThere was no significant association, however, between vitamin D use and prevention of cancer.\\n\\nThe findings featured at the annual meeting of the American Society of Clinical Oncology (ASCO) in Chicago, IL, on June 3, 2019.\\n\\nA recent supplement of the ASCO\\'s Journal of Clinical Oncology also includes an abstract of the study.\\n\\n\"The difference in the mortality rate between the vitamin D and placebo groups was statistically significant enough that it showed just how important it might be among the cancer population,\" says Tarek Haykal, a resident doctor in internal medicine at MSU and one of the study\\'s lead authors.\\n\\nCancer and vitamin D\\n\\nAccording to the World Health Organization (WHO), cancer is the second main cause of deaths worldwide. In 2018, around 18.1 million people found out that they had cancer, and 9.6 million died of the disease.\\n\\nCancer develops when cells multiply abnormally and form a tumor that can spread. There are many forms of cancer, depending on the type of cell and part of the body in which it starts.\\n\\nUnder normal circumstances, when cells undergo damage or grow old, they die, and new ones replace them. Cancer arises when this process stops working properly, meaning that damaged or old cells do not die, or too many new cells form. This dysfunction can result in a surplus of cells that grow out of control.\\n\\nAs a cancer tumor grows, it begins to spread into nearby tissue. At the same time, cells can escape the tumor, spread through the lymph system and bloodstream to other parts of the body, and start new, secondary tumors.\\n\\nThe chances of surviving cancer are much higher when diagnosis occurs in the early stages and treatment can begin before the disease has started to spread. Once cancer has spread, or metastasized, it is harder to treat.\\n\\nMost people get their vitamin D from exposure to sunlight and from food. Some also take vitamin D supplements. The body has to convert vitamin D into an active form before it can use it. This process occurs in two stages: first in the liver, and then in the kidneys.\\n\\nOnce it is in an active form, vitamin D helps the gut absorb calcium during digestion and keeps blood levels stable for use in forming bone. It also helps maintain healthy bone. Health problems, such as rickets in children and osteoporosis in older people, can result from a lack of vitamin D.\\n\\nAs well as being essential for bone health, vitamin D also helps control cell growth, immune function, and inflammation. It performs these functions by regulating genes for cell differentiation, division, and death.\\n\\nOutstanding questions need further research\\n\\nAn increasing number of studies have been looking at whether taking vitamin D supplements could prevent osteoporosis, cardiovascular disease, diabetes, cancer, and other diseases.\\n\\nHaykal and his colleagues decided to take a look at this evidence in relation to cancer prevention, especially as the use of aspirin for \"primary prevention of cancer is still controversial,\" they note.\\n\\nWhile the study\\'s findings are promising, Haykal says that there is still a lot to find out, including the correct dosage and blood levels of vitamin D.\\n\\nThere also needs to be more investigation into how many additional years of life vitamin D can give people with cancer and how the underlying mechanism of action works.\\n\\n\"There are still many questions, and more research is needed,\" Haykal urges. However, he suggests that the new findings are sufficiently strong to make him wish that more doctors would prescribe vitamin D, especially those caring for cancer patients.'"
      ]
     },
     "execution_count": 22,
     "metadata": {},
     "output_type": "execute_result"
    }
   ],
   "source": [
    "text"
   ]
  },
  {
   "cell_type": "code",
   "execution_count": 23,
   "metadata": {},
   "outputs": [],
   "source": [
    "r.extract_keywords_from_text(text)"
   ]
  },
  {
   "cell_type": "code",
   "execution_count": 24,
   "metadata": {},
   "outputs": [],
   "source": [
    "output = r.get_ranked_phrases()"
   ]
  },
  {
   "cell_type": "code",
   "execution_count": 25,
   "metadata": {},
   "outputs": [
    {
     "name": "stdout",
     "output_type": "stream",
     "text": [
      "east lansing analyzed data\n",
      "supplements could prevent osteoporosis\n",
      "process stops working properly\n",
      "doctors would prescribe vitamin\n",
      "needed ,\" haykal urges\n",
      "keeps blood levels stable\n",
      "1 million people found\n",
      "clinical oncology also includes\n",
      "many new cells form\n",
      "still controversial ,\"\n",
      "6 million died\n",
      "still many questions\n",
      "second main cause\n",
      "outstanding questions need\n",
      "michigan state university\n",
      "gut absorb calcium\n",
      "cells undergo damage\n",
      "cells multiply abnormally\n",
      "new ones replace\n",
      "whether taking vitamin\n",
      "many additional years\n",
      "also take vitamin\n",
      "world health organization\n",
      "statistically significant enough\n",
      "randomized controlled trials\n",
      "cancer tumor grows\n",
      "least 3 years\n",
      "clinical oncology\n",
      "blood levels\n",
      "team found\n",
      "process occurs\n",
      "prevent disease\n",
      "old cells\n",
      "many forms\n",
      "haykal says\n",
      "active form\n",
      "start new\n",
      "new findings\n",
      "also recorded\n",
      "also needs\n",
      "took vitamin\n",
      "life vitamin\n",
      "convert vitamin\n",
      "june 3\n",
      "68 years\n",
      "4 years\n",
      "people get\n",
      "older people\n",
      "give people\n",
      "compared people\n",
      "significant link\n",
      "significant association\n",
      "included trials\n",
      "health problems\n",
      "bone health\n",
      "10 trials\n",
      "surviving cancer\n",
      "cancer prevention\n",
      "cancer patients\n",
      "cancer develops\n",
      "cancer arises\n",
      "), cancer\n",
      "underlying mechanism\n",
      "two stages\n",
      "sufficiently strong\n",
      "secondary tumors\n",
      "resident doctor\n",
      "related deaths\n",
      "regulating genes\n",
      "recent supplement\n",
      "primary prevention\n",
      "placebo groups\n",
      "normal circumstances\n",
      "nearby tissue\n",
      "much higher\n",
      "mortality rate\n",
      "minimum follow\n",
      "lymph system\n",
      "lower risk\n",
      "lead authors\n",
      "internal medicine\n",
      "increasing number\n",
      "immune function\n",
      "grow old\n",
      "forming bone\n",
      "findings featured\n",
      "early stages\n",
      "diagnosis occurs\n",
      "deaths worldwide\n",
      "correct dosage\n",
      "colleagues decided\n",
      "cell differentiation\n",
      "cardiovascular disease\n",
      "average age\n",
      "around 18\n",
      "annual meeting\n",
      "analysis took\n",
      "analysis showed\n",
      "american society\n",
      "action works\n",
      "055 participants\n"
     ]
    }
   ],
   "source": [
    "for key_phrase in output:\n",
    "    print(key_phrase)"
   ]
  },
  {
   "cell_type": "code",
   "execution_count": null,
   "metadata": {},
   "outputs": [],
   "source": []
  },
  {
   "cell_type": "code",
   "execution_count": null,
   "metadata": {},
   "outputs": [],
   "source": []
  }
 ],
 "metadata": {
  "kernelspec": {
   "display_name": "Python 3",
   "language": "python",
   "name": "python3"
  },
  "language_info": {
   "codemirror_mode": {
    "name": "ipython",
    "version": 3
   },
   "file_extension": ".py",
   "mimetype": "text/x-python",
   "name": "python",
   "nbconvert_exporter": "python",
   "pygments_lexer": "ipython3",
   "version": "3.6.8"
  }
 },
 "nbformat": 4,
 "nbformat_minor": 2
}

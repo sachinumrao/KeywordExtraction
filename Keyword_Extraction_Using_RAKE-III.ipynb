{
 "cells": [
  {
   "cell_type": "code",
   "execution_count": 1,
   "metadata": {},
   "outputs": [],
   "source": [
    "# Import Dependecies\n",
    "from rake_nltk import Rake\n",
    "import contractions\n",
    "import string\n",
    "import spacy"
   ]
  },
  {
   "cell_type": "code",
   "execution_count": 2,
   "metadata": {},
   "outputs": [],
   "source": [
    "# Use spacy to find list of stopwords\n",
    "nlp = spacy.load(\"en\")\n",
    "stops = nlp.Defaults.stop_words"
   ]
  },
  {
   "cell_type": "code",
   "execution_count": 3,
   "metadata": {},
   "outputs": [
    {
     "data": {
      "text/plain": [
       "set"
      ]
     },
     "execution_count": 3,
     "metadata": {},
     "output_type": "execute_result"
    }
   ],
   "source": [
    "type(stops)"
   ]
  },
  {
   "cell_type": "code",
   "execution_count": 4,
   "metadata": {},
   "outputs": [],
   "source": [
    "# Add newline in text as stopword\n",
    "stops = list(stops)\n",
    "stops.append('\\n')"
   ]
  },
  {
   "cell_type": "code",
   "execution_count": 5,
   "metadata": {},
   "outputs": [
    {
     "name": "stdout",
     "output_type": "stream",
     "text": [
      "['mine', 'we', 'is', 'afterwards', 'more', 'how', 'next', 'does', 'none', 'themselves', 'call', 'sometime', 'last', 'have', 'meanwhile', 'everyone', 'become', 'ever', 'toward', 'nevertheless', 'seemed', 'hundred', 'twelve', 'a', 'former', 'wherein', 'nothing', 'beside', 'before', 'do', 'wherever', 'anyway', 'anywhere', 'thereafter', 'then', 'seem', 'make', 'my', 'when', 'whenever', 'her', 'both', 'many', 'will', 'about', 'elsewhere', 'latter', 'same', \"'d\", 'which', 'fifty', 'in', 'might', 'various', 'why', 'under', 'sixty', 'or', \"'m\", 'fifteen', 'even', 'sometimes', 'empty', 'must', 'down', 'onto', 'throughout', 'there', 'became', 'besides', 'here', 'thence', 'just', 'using', 'below', 'out', 'someone', 'their', 'while', 'may', 'myself', 'being', 'top', 'such', \"'ll\", 'each', 'you', 'around', 'his', 'go', 'whereupon', 'except', 'towards', 'full', 'behind', 'from', 'done', 'nobody', 'whatever', 'within', 'him', 'noone', 'get', 'part', 'though', 'other', 'beyond', 'ourselves', 'whole', 'therefore', 'forty', 'whence', 'alone', 'front', 'off', 'most', 'also', 'now', 'hereby', 'yourselves', 'anyone', 'anyhow', 'becoming', 'as', 'few', 'hereafter', 'itself', 'see', 'thus', 'together', 'hence', 'its', 'was', 'into', 'give', 'if', 'unless', 'yet', 'did', 'either', 'they', 'beforehand', 'nor', 'amount', 'further', 'seeming', 'be', 'indeed', 'show', 'bottom', 'to', 'neither', 'whereas', \"'re\", 'yourself', 'hers', 'that', 'all', 'very', 'ours', 'somewhere', 'across', 'whether', 'this', 'whose', 'could', 'any', 'moreover', 'per', 'several', 'still', 'us', 'not', 'every', 're', 'upon', 'what', 'your', 'one', 'ten', 'nine', 'up', 'doing', 'cannot', 'i', 'never', 'are', 'quite', 'but', 'keep', 'has', 'serious', 'should', 'two', 'with', 'our', 'thereby', 'whither', 'becomes', 'often', 'hereupon', 'again', 'latterly', 'nowhere', 'own', 'although', 'been', 'eleven', 'for', 'namely', 'rather', 'another', 'everything', 'of', 'say', 'back', 'along', 'take', 'something', 'where', 'she', 'can', 'thereupon', 'than', 'ca', 'once', 'whereafter', 'until', 'would', 'otherwise', 'am', 'name', 'three', 'enough', 'during', 'had', 'against', 'since', 'he', 'everywhere', 'herein', 'others', 'who', 'mostly', 'it', 'already', 'really', 'side', 'due', 'less', 'so', 'no', \"'s\", 'between', 'over', 'least', 'move', 'however', 'me', 'some', 'whereby', 'above', 'the', 'those', 'first', 'third', 'please', 'twenty', 'were', 'six', 'because', 'these', 'them', 'whoever', 'almost', 'used', 'else', 'yours', 'at', \"n't\", 'somehow', 'and', 'an', 'made', 'perhaps', 'always', 'five', 'put', 'seems', 'after', 'only', 'whom', 'thru', 'formerly', 'anything', 'herself', 'on', 'well', 'regarding', 'himself', 'by', 'much', 'therein', 'without', 'eight', \"'ve\", 'too', 'via', 'among', 'through', 'four', 'amongst', '\\n']\n"
     ]
    }
   ],
   "source": [
    "print(stops)"
   ]
  },
  {
   "cell_type": "code",
   "execution_count": 6,
   "metadata": {},
   "outputs": [],
   "source": [
    "# Read the text document\n",
    "raw_text = open(\"article.txt\",\"r\", encoding='UTF-8').read()"
   ]
  },
  {
   "cell_type": "code",
   "execution_count": 7,
   "metadata": {},
   "outputs": [
    {
     "data": {
      "text/plain": [
       "'Researchers at Michigan State University (MSU) in East Lansing analyzed data from randomized controlled trials that had compared people who took vitamin D supplements with those who took a placebo for at least 3 years.\\n\\nThey only included trials that had examined the use of vitamin D supplements to prevent disease over a minimum follow-up of 4 years and had also recorded the incidence of cancer and cancer-related deaths.\\n\\nIn all, the analysis took in 10 trials with a total of 79,055 participants. Their average age was 68 years, and 78% of them were female.\\n\\nThe team found a significant link between the use of vitamin D supplements and a lower risk of death to cancer over the follow-up period.\\n\\nThe analysis showed that people who took vitamin D supplements had a 13% lower risk of dying from cancer than those who took a placebo over the same period.\\n\\nThere was no significant association, however, between vitamin D use and prevention of cancer.\\n\\nThe findings featured at the annual meeting of the American Society of Clinical Oncology (ASCO) in Chicago, IL, on June 3, 2019.\\n\\nA recent supplement of the ASCO\\'s Journal of Clinical Oncology also includes an abstract of the study.\\n\\n\"The difference in the mortality rate between the vitamin D and placebo groups was statistically significant enough that it showed just how important it might be among the cancer population,\" says Tarek Haykal, a resident doctor in internal medicine at MSU and one of the study\\'s lead authors.\\n\\nCancer and vitamin D\\n\\nAccording to the World Health Organization (WHO), cancer is the second main cause of deaths worldwide. In 2018, around 18.1 million people found out that they had cancer, and 9.6 million died of the disease.\\n\\nCancer develops when cells multiply abnormally and form a tumor that can spread. There are many forms of cancer, depending on the type of cell and part of the body in which it starts.\\n\\nUnder normal circumstances, when cells undergo damage or grow old, they die, and new ones replace them. Cancer arises when this process stops working properly, meaning that damaged or old cells do not die, or too many new cells form. This dysfunction can result in a surplus of cells that grow out of control.\\n\\nAs a cancer tumor grows, it begins to spread into nearby tissue. At the same time, cells can escape the tumor, spread through the lymph system and bloodstream to other parts of the body, and start new, secondary tumors.\\n\\nThe chances of surviving cancer are much higher when diagnosis occurs in the early stages and treatment can begin before the disease has started to spread. Once cancer has spread, or metastasized, it is harder to treat.\\n\\nMost people get their vitamin D from exposure to sunlight and from food. Some also take vitamin D supplements. The body has to convert vitamin D into an active form before it can use it. This process occurs in two stages: first in the liver, and then in the kidneys.\\n\\nOnce it is in an active form, vitamin D helps the gut absorb calcium during digestion and keeps blood levels stable for use in forming bone. It also helps maintain healthy bone. Health problems, such as rickets in children and osteoporosis in older people, can result from a lack of vitamin D.\\n\\nAs well as being essential for bone health, vitamin D also helps control cell growth, immune function, and inflammation. It performs these functions by regulating genes for cell differentiation, division, and death.\\n\\nOutstanding questions need further research\\n\\nAn increasing number of studies have been looking at whether taking vitamin D supplements could prevent osteoporosis, cardiovascular disease, diabetes, cancer, and other diseases.\\n\\nHaykal and his colleagues decided to take a look at this evidence in relation to cancer prevention, especially as the use of aspirin for \"primary prevention of cancer is still controversial,\" they note.\\n\\nWhile the study\\'s findings are promising, Haykal says that there is still a lot to find out, including the correct dosage and blood levels of vitamin D.\\n\\nThere also needs to be more investigation into how many additional years of life vitamin D can give people with cancer and how the underlying mechanism of action works.\\n\\n\"There are still many questions, and more research is needed,\" Haykal urges. However, he suggests that the new findings are sufficiently strong to make him wish that more doctors would prescribe vitamin D, especially those caring for cancer patients.'"
      ]
     },
     "execution_count": 7,
     "metadata": {},
     "output_type": "execute_result"
    }
   ],
   "source": [
    "raw_text"
   ]
  },
  {
   "cell_type": "code",
   "execution_count": 8,
   "metadata": {},
   "outputs": [],
   "source": [
    "# Tokenize the text\n",
    "doc = nlp(raw_text)\n",
    "\n",
    "tokens = []\n",
    "\n",
    "for j in doc:\n",
    "    tokens.append(j.text)"
   ]
  },
  {
   "cell_type": "code",
   "execution_count": 9,
   "metadata": {},
   "outputs": [],
   "source": [
    "# Remove all contractions\n",
    "for j in range(len(tokens)):\n",
    "    tokens[j] = contractions.fix(tokens[j])"
   ]
  },
  {
   "cell_type": "code",
   "execution_count": 11,
   "metadata": {},
   "outputs": [],
   "source": [
    "# Combine tokens in form of text\n",
    "text_doc = ''\n",
    "\n",
    "for j in tokens:\n",
    "    text_doc += j+' '"
   ]
  },
  {
   "cell_type": "code",
   "execution_count": 12,
   "metadata": {},
   "outputs": [
    {
     "name": "stdout",
     "output_type": "stream",
     "text": [
      "Researchers at Michigan State University ( MSU ) in East Lansing analyzed data from randomized controlled trials that had compared people who took vitamin D supplements with those who took a placebo for at least 3 years . \n",
      "\n",
      " They only included trials that had examined the use of vitamin D supplements to prevent disease over a minimum follow - up of 4 years and had also recorded the incidence of cancer and cancer - related deaths . \n",
      "\n",
      " In all , the analysis took in 10 trials with a total of 79,055 participants . Their average age was 68 years , and 78 % of them were female . \n",
      "\n",
      " The team found a significant link between the use of vitamin D supplements and a lower risk of death to cancer over the follow - up period . \n",
      "\n",
      " The analysis showed that people who took vitamin D supplements had a 13 % lower risk of dying from cancer than those who took a placebo over the same period . \n",
      "\n",
      " There was no significant association , however , between vitamin D use and prevention of cancer . \n",
      "\n",
      " The findings featured at the annual meeting of the American Society of Clinical Oncology ( ASCO ) in Chicago , IL , on June 3 , 2019 . \n",
      "\n",
      " A recent supplement of the ASCO 's Journal of Clinical Oncology also includes an abstract of the study . \n",
      "\n",
      " \" The difference in the mortality rate between the vitamin D and placebo groups was statistically significant enough that it showed just how important it might be among the cancer population , \" says Tarek Haykal , a resident doctor in internal medicine at MSU and one of the study 's lead authors . \n",
      "\n",
      " Cancer and vitamin D \n",
      "\n",
      " According to the World Health Organization ( WHO ) , cancer is the second main because of deaths worldwide . In 2018 , around 18.1 million people found out that they had cancer , and 9.6 million died of the disease . \n",
      "\n",
      " Cancer develops when cells multiply abnormally and form a tumor that can spread . There are many forms of cancer , depending on the type of cell and part of the body in which it starts . \n",
      "\n",
      " Under normal circumstances , when cells undergo damage or grow old , they die , and new ones replace them . Cancer arises when this process stops working properly , meaning that damaged or old cells do not die , or too many new cells form . This dysfunction can result in a surplus of cells that grow out of control . \n",
      "\n",
      " As a cancer tumor grows , it begins to spread into nearby tissue . At the same time , cells can escape the tumor , spread through the lymph system and bloodstream to other parts of the body , and start new , secondary tumors . \n",
      "\n",
      " The chances of surviving cancer are much higher when diagnosis occurs in the early stages and treatment can begin before the disease has started to spread . Once cancer has spread , or metastasized , it is harder to treat . \n",
      "\n",
      " Most people get their vitamin D from exposure to sunlight and from food . Some also take vitamin D supplements . The body has to convert vitamin D into an active form before it can use it . This process occurs in two stages : first in the liver , and then in the kidneys . \n",
      "\n",
      " Once it is in an active form , vitamin D helps the gut absorb calcium during digestion and keeps blood levels stable for use in forming bone . It also helps maintain healthy bone . Health problems , such as rickets in children and osteoporosis in older people , can result from a lack of vitamin D. \n",
      "\n",
      " As well as being essential for bone health , vitamin D also helps control cell growth , immune function , and inflammation . It performs these functions by regulating genes for cell differentiation , division , and death . \n",
      "\n",
      " Outstanding questions need further research \n",
      "\n",
      " An increasing number of studies have been looking at whether taking vitamin D supplements could prevent osteoporosis , cardiovascular disease , diabetes , cancer , and other diseases . \n",
      "\n",
      " Haykal and his colleagues decided to take a look at this evidence in relation to cancer prevention , especially as the use of aspirin for \" primary prevention of cancer is still controversial , \" they note . \n",
      "\n",
      " While the study 's findings are promising , Haykal says that there is still a lot to find out , including the correct dosage and blood levels of vitamin D. \n",
      "\n",
      " There also needs to be more investigation into how many additional years of life vitamin D can give people with cancer and how the underlying mechanism of action works . \n",
      "\n",
      " \" There are still many questions , and more research is needed , \" Haykal urges . However , he suggests that the new findings are sufficiently strong to make him wish that more doctors would prescribe vitamin D , especially those caring for cancer patients . \n"
     ]
    }
   ],
   "source": [
    "print(text_doc)"
   ]
  },
  {
   "cell_type": "code",
   "execution_count": 13,
   "metadata": {},
   "outputs": [],
   "source": [
    "r = Rake(stopwords=stops,\n",
    "        min_length=2,\n",
    "        max_length=4)"
   ]
  },
  {
   "cell_type": "code",
   "execution_count": 14,
   "metadata": {},
   "outputs": [],
   "source": [
    "r.extract_keywords_from_text(text_doc)"
   ]
  },
  {
   "cell_type": "code",
   "execution_count": 15,
   "metadata": {},
   "outputs": [],
   "source": [
    "output = r.get_ranked_phrases()"
   ]
  },
  {
   "cell_type": "code",
   "execution_count": 16,
   "metadata": {},
   "outputs": [
    {
     "name": "stdout",
     "output_type": "stream",
     "text": [
      "east lansing analyzed data\n",
      "process stops working properly\n",
      "helps control cell growth\n",
      "helps maintain healthy bone\n",
      "keeps blood levels stable\n",
      "taking vitamin d supplements\n",
      "1 million people found\n",
      "took vitamin d supplements\n",
      "vitamin d supplements\n",
      "vitamin d helps\n",
      "6 million died\n",
      "vitamin d use\n",
      "vitamin d according\n",
      "prescribe vitamin d\n",
      "life vitamin d\n",
      "convert vitamin d\n",
      "outstanding questions need\n",
      "michigan state university\n",
      "gut absorb calcium\n",
      "cells undergo damage\n",
      "cells multiply abnormally\n",
      "new ones replace\n",
      "world health organization\n",
      "s lead authors\n",
      "randomized controlled trials\n",
      "cancer tumor grows\n",
      "says tarek haykal\n",
      "new cells form\n",
      "vitamin d\n",
      "blood levels\n",
      "team found\n",
      "process occurs\n",
      "cell differentiation\n",
      "bone health\n",
      "analysis took\n",
      "haykal says\n",
      "old cells\n",
      "older people\n",
      "forming bone\n",
      "compared people\n",
      "start new\n",
      "new findings\n",
      "active form\n",
      "s journal\n",
      "s findings\n",
      "included trials\n",
      "health problems\n",
      "haykal urges\n",
      "10 trials\n",
      "surviving cancer\n",
      "cancer prevention\n",
      "cancer population\n",
      "cancer patients\n",
      "cancer develops\n",
      "cancer arises\n",
      "underlying mechanism\n",
      "sufficiently strong\n",
      "statistically significant\n",
      "significant link\n",
      "significant association\n",
      "secondary tumors\n",
      "second main\n",
      "resident doctor\n",
      "related deaths\n",
      "regulating genes\n",
      "recent supplement\n",
      "primary prevention\n",
      "prevent osteoporosis\n",
      "prevent disease\n",
      "placebo groups\n",
      "normal circumstances\n",
      "nearby tissue\n",
      "mortality rate\n",
      "minimum follow\n",
      "lymph system\n",
      "lower risk\n",
      "june 3\n",
      "internal medicine\n",
      "increasing number\n",
      "immune function\n",
      "grow old\n",
      "findings featured\n",
      "early stages\n",
      "diagnosis occurs\n",
      "deaths worldwide\n",
      "correct dosage\n",
      "colleagues decided\n",
      "clinical oncology\n",
      "cardiovascular disease\n",
      "average age\n",
      "annual meeting\n",
      "analysis showed\n",
      "american society\n",
      "additional years\n",
      "action works\n",
      "68 years\n",
      "4 years\n",
      "3 years\n",
      "055 participants\n"
     ]
    }
   ],
   "source": [
    "for key_phrase in output:\n",
    "    print(key_phrase)"
   ]
  },
  {
   "cell_type": "code",
   "execution_count": null,
   "metadata": {},
   "outputs": [],
   "source": []
  }
 ],
 "metadata": {
  "kernelspec": {
   "display_name": "Python 3",
   "language": "python",
   "name": "python3"
  },
  "language_info": {
   "codemirror_mode": {
    "name": "ipython",
    "version": 3
   },
   "file_extension": ".py",
   "mimetype": "text/x-python",
   "name": "python",
   "nbconvert_exporter": "python",
   "pygments_lexer": "ipython3",
   "version": "3.6.8"
  }
 },
 "nbformat": 4,
 "nbformat_minor": 2
}
